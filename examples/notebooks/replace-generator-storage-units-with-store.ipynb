{
 "cells": [
  {
   "cell_type": "markdown",
   "metadata": {},
   "source": [
    "# Replace components with fundamental Links and Stores\n",
    "\n",
    "This notebook demonstrates how generators and storage units can be replaced by more fundamental components, and how their parameters map to each other."
   ]
  },
  {
   "cell_type": "code",
   "execution_count": 5,
   "metadata": {},
   "outputs": [],
   "source": [
    "import pypsa, os\n",
    "import numpy as np\n",
    "import pandas as pd\n",
    "\n",
    "from numpy.testing import assert_almost_equal, assert_array_almost_equal\n",
    "from pyomo.environ import Constraint"
   ]
  },
  {
   "cell_type": "markdown",
   "metadata": {},
   "source": [
    "We define two functions we use in the following."
   ]
  },
  {
   "cell_type": "code",
   "execution_count": 1,
   "metadata": {},
   "outputs": [],
   "source": [
    "def replace_gen(network,gen_to_replace):\n",
    "    \"\"\"Replace the generator gen_to_replace with a bus for the energy\n",
    "    carrier, a link for the conversion from the energy carrier to electricity\n",
    "    and a store to keep track of the depletion of the energy carrier and its\n",
    "    CO2 emissions.\"\"\"\n",
    "    \n",
    "\n",
    "    gen = network.generators.loc[gen_to_replace]\n",
    "\n",
    "    bus_name = \"{} {}\".format(gen[\"bus\"], gen[\"carrier\"])\n",
    "    link_name = \"{} converter {} to AC\".format(gen_to_replace,gen[\"carrier\"])\n",
    "    store_name = \"{} store {}\".format(gen_to_replace,gen[\"carrier\"])\n",
    "\n",
    "    network.add(\"Bus\",\n",
    "            bus_name,\n",
    "            carrier=gen[\"carrier\"])\n",
    "\n",
    "    network.add(\"Link\",\n",
    "            link_name,\n",
    "            bus0=bus_name,\n",
    "            bus1=gen[\"bus\"],\n",
    "            capital_cost=gen[\"capital_cost\"]*gen[\"efficiency\"],\n",
    "            p_nom = gen[\"p_nom\"]/gen[\"efficiency\"],\n",
    "            p_nom_extendable=gen[\"p_nom_extendable\"],\n",
    "            p_nom_max = gen[\"p_nom_max\"]/gen[\"efficiency\"],\n",
    "            p_nom_min = gen[\"p_nom_min\"]/gen[\"efficiency\"],\n",
    "            p_max_pu = network.generators_t.p_max_pu.loc[:,gen_to_replace] if gen_to_replace in network.generators_t.p_max_pu.columns else gen[\"p_max_pu\"],\n",
    "            p_min_pu = network.generators_t.p_min_pu.loc[:,gen_to_replace] if gen_to_replace in network.generators_t.p_min_pu.columns else gen[\"p_min_pu\"],\n",
    "            marginal_cost=gen[\"marginal_cost\"]*gen[\"efficiency\"],\n",
    "            efficiency=gen[\"efficiency\"])\n",
    "\n",
    "    network.add(\"Store\",\n",
    "            store_name,\n",
    "            bus=bus_name,\n",
    "            e_nom_min=-float(\"inf\"),\n",
    "            e_nom_max=0,\n",
    "            e_nom_extendable=True,\n",
    "            e_min_pu=1.,\n",
    "            e_max_pu=0.)\n",
    "\n",
    "    network.remove(\"Generator\",gen_to_replace)\n",
    "\n",
    "    return bus_name, link_name, store_name\n",
    "\n",
    "\n",
    "\n",
    "def replace_su(network,su_to_replace):\n",
    "    \"\"\"Replace the storage unit su_to_replace with a bus for the energy\n",
    "    carrier, two links for the conversion of the energy carrier to and from electricity,\n",
    "    a store to keep track of the depletion of the energy carrier and its\n",
    "    CO2 emissions, and a variable generator for the storage inflow.\n",
    "    \n",
    "    Because the energy size and power size are linked in the storage unit by the max_hours,\n",
    "    extra functionality must be added to the LOPF to implement this constraint.\"\"\"\n",
    "\n",
    "    su = network.storage_units.loc[su_to_replace]\n",
    "\n",
    "\n",
    "    bus_name = \"{} {}\".format(su[\"bus\"],su[\"carrier\"])\n",
    "    link_1_name = \"{} converter {} to AC\".format(su_to_replace,su[\"carrier\"])\n",
    "    link_2_name = \"{} converter AC to {}\".format(su_to_replace,su[\"carrier\"])\n",
    "    store_name = \"{} store {}\".format(su_to_replace,su[\"carrier\"])\n",
    "    gen_name = \"{} inflow\".format(su_to_replace)\n",
    "\n",
    "    network.add(\"Bus\", bus_name, carrier=su[\"carrier\"])\n",
    "\n",
    "    #dispatch link\n",
    "    network.add(\"Link\",\n",
    "            link_1_name,\n",
    "            bus0=bus_name,\n",
    "            bus1=su[\"bus\"],\n",
    "            capital_cost=su[\"capital_cost\"]*su[\"efficiency_dispatch\"],\n",
    "            p_nom = su[\"p_nom\"]/su[\"efficiency_dispatch\"],\n",
    "            p_nom_extendable=su[\"p_nom_extendable\"],\n",
    "            p_nom_max = su[\"p_nom_max\"]/su[\"efficiency_dispatch\"],\n",
    "            p_nom_min = su[\"p_nom_min\"]/su[\"efficiency_dispatch\"],\n",
    "            p_max_pu = su[\"p_max_pu\"],\n",
    "            marginal_cost=su[\"marginal_cost\"]*su[\"efficiency_dispatch\"],\n",
    "            efficiency=su[\"efficiency_dispatch\"])\n",
    "\n",
    "    #store link\n",
    "    network.add(\"Link\",\n",
    "            link_2_name,\n",
    "            bus1=bus_name,\n",
    "            bus0=su[\"bus\"],\n",
    "            p_nom = su[\"p_nom\"],\n",
    "            p_nom_extendable=su[\"p_nom_extendable\"],\n",
    "            p_nom_max = su[\"p_nom_max\"],\n",
    "            p_nom_min = su[\"p_nom_min\"],\n",
    "            p_max_pu = -su[\"p_min_pu\"],\n",
    "            efficiency=su[\"efficiency_store\"])\n",
    "\n",
    "    \n",
    "    if su_to_replace in network.storage_units_t.state_of_charge_set.columns and (~pd.isnull(network.storage_units_t.state_of_charge_set[su_to_replace])).any():\n",
    "        e_max_pu = pd.Series(data=1.,index=network.snapshots)\n",
    "        e_min_pu = pd.Series(data=0.,index=network.snapshots)\n",
    "        non_null = ~pd.isnull(network.storage_units_t.state_of_charge_set[su_to_replace])\n",
    "        e_max_pu[non_null] = network.storage_units_t.state_of_charge_set[su_to_replace][non_null]\n",
    "        e_min_pu[non_null] = network.storage_units_t.state_of_charge_set[su_to_replace][non_null]\n",
    "    else:\n",
    "        e_max_pu = 1.\n",
    "        e_min_pu = 0.\n",
    "    \n",
    "    network.add(\"Store\",\n",
    "            store_name,\n",
    "            bus=bus_name,\n",
    "            e_nom=su[\"p_nom\"]*su[\"max_hours\"],\n",
    "            e_nom_min=su[\"p_nom_min\"]/su[\"efficiency_dispatch\"]*su[\"max_hours\"],\n",
    "            e_nom_max=su[\"p_nom_max\"]/su[\"efficiency_dispatch\"]*su[\"max_hours\"],\n",
    "            e_nom_extendable=su[\"p_nom_extendable\"],\n",
    "            e_max_pu=e_max_pu,\n",
    "            e_min_pu=e_min_pu,\n",
    "            standing_loss=su[\"standing_loss\"],\n",
    "            e_cyclic=su['cyclic_state_of_charge'],\n",
    "            e_initial=su['state_of_charge_initial'])\n",
    "\n",
    "    network.add(\"Carrier\",\n",
    "                \"rain\",\n",
    "                co2_emissions=0.)\n",
    "\n",
    "    #inflow from a variable generator, which can be curtailed (i.e. spilled)\n",
    "    inflow_max = network.storage_units_t.inflow[su_to_replace].max()\n",
    "\n",
    "    if inflow_max == 0.:\n",
    "        inflow_pu=0.\n",
    "    else:\n",
    "        inflow_pu = network.storage_units_t.inflow[su_to_replace]/inflow_max\n",
    "        \n",
    "    network.add(\"Generator\",\n",
    "               gen_name,\n",
    "               bus=bus_name,\n",
    "               carrier=\"rain\",\n",
    "               p_nom=inflow_max,\n",
    "               p_max_pu=inflow_pu)\n",
    "\n",
    "    if su[\"p_nom_extendable\"]:\n",
    "        ratio2 = su[\"max_hours\"]\n",
    "        ratio1 = ratio2*su[\"efficiency_dispatch\"]\n",
    "        def extra_functionality(network,snapshots):\n",
    "            model = network.model\n",
    "            model.store_fix_1 = Constraint(rule=lambda model : model.store_e_nom[store_name] == model.link_p_nom[link_1_name]*ratio1)\n",
    "            model.store_fix_2 = Constraint(rule=lambda model : model.store_e_nom[store_name] == model.link_p_nom[link_2_name]*ratio2)\n",
    "\n",
    "    else:\n",
    "        extra_functionality=None\n",
    "\n",
    "    network.remove(\"StorageUnit\",su_to_replace)\n",
    "\n",
    "\n",
    "    return bus_name, link_1_name, link_2_name, store_name, gen_name, extra_functionality"
   ]
  },
  {
   "cell_type": "markdown",
   "metadata": {},
   "source": [
    "Now, take an example from the git repo which has already been solved"
   ]
  },
  {
   "cell_type": "code",
   "execution_count": 4,
   "metadata": {},
   "outputs": [
    {
     "name": "stderr",
     "output_type": "stream",
     "text": [
      "The argument csv_folder_name for initiating Network() is deprecated, please use import_name instead.\n",
      "WARNING:pypsa.io:\n",
      "Importing PyPSA from older version of PyPSA than current version 0.17.1.\n",
      "Please read the release notes at https://pypsa.org/doc/release_notes.html\n",
      "carefully to prepare your network for import.\n",
      "\n",
      "INFO:pypsa.components:Applying weightings to all columns of `snapshot_weightings`\n",
      "INFO:pypsa.io:Imported network results has buses, carriers, generators, global_constraints, lines, links, loads, storage_units\n"
     ]
    }
   ],
   "source": [
    "csv_folder_name = \"../opf-storage-hvdc/opf-storage-data\"\n",
    "results_folder_name = os.path.join(csv_folder_name, \"results\")\n",
    "network_r = pypsa.Network(csv_folder_name=results_folder_name)"
   ]
  },
  {
   "cell_type": "code",
   "execution_count": null,
   "metadata": {},
   "outputs": [],
   "source": [
    "network = pypsa.Network(csv_folder_name=csv_folder_name)\n",
    "\n",
    "su_to_replace = \"Storage 0\"\n",
    "\n",
    "bus_name, link_1_name, link_2_name, store_name, gen_name, extra_functionality = replace_su(network,su_to_replace)\n",
    "network.lopf(network.snapshots,extra_functionality=extra_functionality,formulation=\"kirchhoff\")\n",
    "\n",
    "assert_almost_equal(network_r.objective, network.objective, decimal=2)\n",
    "assert_array_almost_equal(network_r.storage_units_t.state_of_charge[su_to_replace],\n",
    "                         network.stores_t.e[store_name])\n",
    "assert_array_almost_equal(network_r.storage_units_t.p[su_to_replace],\n",
    "                          -network.links_t.p1[link_1_name]-network.links_t.p0[link_2_name])\n",
    "\n",
    "#check optimised size\n",
    "assert_allclose(network_r.storage_units.at[su_to_replace,\"p_nom_opt\"],\n",
    "                network.links.at[link_2_name,\"p_nom_opt\"])\n",
    "assert_allclose(network_r.storage_units.at[su_to_replace,\"p_nom_opt\"],\n",
    "                network.links.at[link_1_name,\"p_nom_opt\"]*network_r.storage_units.at[su_to_replace,\"efficiency_dispatch\"])"
   ]
  },
  {
   "cell_type": "code",
   "execution_count": null,
   "metadata": {},
   "outputs": [],
   "source": [
    "network = pypsa.Network(csv_folder_name=csv_folder_name)\n",
    "\n",
    "gen_to_replace = \"Gas 0\"\n",
    "\n",
    "bus_name, link_name, store_name = replace_gen(network,gen_to_replace)\n",
    "network.lopf(network.snapshots)\n",
    "\n",
    "assert_allclose(network_r.objective,network.objective)\n",
    "\n",
    "#check dispatch\n",
    "assert_allclose(-network.links_t.p1[link_name],\n",
    "                network_r.generators_t.p[gen_to_replace])\n",
    "\n",
    "#check optimised size\n",
    "assert_allclose(network_r.generators.at[gen_to_replace,\"p_nom_opt\"],\n",
    "                network.links.at[link_name,\"p_nom_opt\"]*network.links.at[link_name,\"efficiency\"])\n"
   ]
  },
  {
   "cell_type": "markdown",
   "metadata": {},
   "source": [
    "Take another example from the git repo which has already been solved"
   ]
  },
  {
   "cell_type": "code",
   "execution_count": 7,
   "metadata": {},
   "outputs": [
    {
     "name": "stderr",
     "output_type": "stream",
     "text": [
      "WARNING:pypsa.components:The argument csv_folder_name for initiating Network() is deprecated, please use import_name instead.\n"
     ]
    },
    {
     "ename": "AssertionError",
     "evalue": "Directory ac-dc-meshed/ac-dc-data does not exist.",
     "output_type": "error",
     "traceback": [
      "\u001b[0;31m---------------------------------------------------------------------------\u001b[0m",
      "\u001b[0;31mAssertionError\u001b[0m                            Traceback (most recent call last)",
      "\u001b[0;32m<ipython-input-7-37ec33752a66>\u001b[0m in \u001b[0;36m<module>\u001b[0;34m\u001b[0m\n\u001b[1;32m      1\u001b[0m \u001b[0mcsv_folder_name\u001b[0m \u001b[0;34m=\u001b[0m \u001b[0;34m\"ac-dc-meshed/ac-dc-data\"\u001b[0m\u001b[0;34m\u001b[0m\u001b[0;34m\u001b[0m\u001b[0m\n\u001b[0;32m----> 2\u001b[0;31m \u001b[0mnetwork_r\u001b[0m \u001b[0;34m=\u001b[0m \u001b[0mpypsa\u001b[0m\u001b[0;34m.\u001b[0m\u001b[0mNetwork\u001b[0m\u001b[0;34m(\u001b[0m\u001b[0mcsv_folder_name\u001b[0m\u001b[0;34m=\u001b[0m\u001b[0mcsv_folder_name\u001b[0m\u001b[0;34m)\u001b[0m\u001b[0;34m\u001b[0m\u001b[0;34m\u001b[0m\u001b[0m\n\u001b[0m",
      "\u001b[0;32m~/vres/py/pypsa/pypsa/components.py\u001b[0m in \u001b[0;36m__init__\u001b[0;34m(self, import_name, name, ignore_standard_types, override_components, override_component_attrs, **kwargs)\u001b[0m\n\u001b[1;32m    292\u001b[0m                 \u001b[0mself\u001b[0m\u001b[0;34m.\u001b[0m\u001b[0mimport_from_netcdf\u001b[0m\u001b[0;34m(\u001b[0m\u001b[0mimport_name\u001b[0m\u001b[0;34m)\u001b[0m\u001b[0;34m\u001b[0m\u001b[0;34m\u001b[0m\u001b[0m\n\u001b[1;32m    293\u001b[0m             \u001b[0;32melse\u001b[0m\u001b[0;34m:\u001b[0m\u001b[0;34m\u001b[0m\u001b[0;34m\u001b[0m\u001b[0m\n\u001b[0;32m--> 294\u001b[0;31m                 \u001b[0mself\u001b[0m\u001b[0;34m.\u001b[0m\u001b[0mimport_from_csv_folder\u001b[0m\u001b[0;34m(\u001b[0m\u001b[0mimport_name\u001b[0m\u001b[0;34m)\u001b[0m\u001b[0;34m\u001b[0m\u001b[0;34m\u001b[0m\u001b[0m\n\u001b[0m\u001b[1;32m    295\u001b[0m \u001b[0;34m\u001b[0m\u001b[0m\n\u001b[1;32m    296\u001b[0m         \u001b[0;32mfor\u001b[0m \u001b[0mkey\u001b[0m\u001b[0;34m,\u001b[0m \u001b[0mvalue\u001b[0m \u001b[0;32min\u001b[0m \u001b[0mkwargs\u001b[0m\u001b[0;34m.\u001b[0m\u001b[0mitems\u001b[0m\u001b[0;34m(\u001b[0m\u001b[0;34m)\u001b[0m\u001b[0;34m:\u001b[0m\u001b[0;34m\u001b[0m\u001b[0;34m\u001b[0m\u001b[0m\n",
      "\u001b[0;32m~/vres/py/pypsa/pypsa/io.py\u001b[0m in \u001b[0;36mimport_from_csv_folder\u001b[0;34m(network, csv_folder_name, encoding, skip_time)\u001b[0m\n\u001b[1;32m    387\u001b[0m \u001b[0;34m\u001b[0m\u001b[0m\n\u001b[1;32m    388\u001b[0m     \u001b[0mbasename\u001b[0m \u001b[0;34m=\u001b[0m \u001b[0mos\u001b[0m\u001b[0;34m.\u001b[0m\u001b[0mpath\u001b[0m\u001b[0;34m.\u001b[0m\u001b[0mbasename\u001b[0m\u001b[0;34m(\u001b[0m\u001b[0mcsv_folder_name\u001b[0m\u001b[0;34m)\u001b[0m\u001b[0;34m\u001b[0m\u001b[0;34m\u001b[0m\u001b[0m\n\u001b[0;32m--> 389\u001b[0;31m     \u001b[0;32mwith\u001b[0m \u001b[0mImporterCSV\u001b[0m\u001b[0;34m(\u001b[0m\u001b[0mcsv_folder_name\u001b[0m\u001b[0;34m,\u001b[0m \u001b[0mencoding\u001b[0m\u001b[0;34m=\u001b[0m\u001b[0mencoding\u001b[0m\u001b[0;34m)\u001b[0m \u001b[0;32mas\u001b[0m \u001b[0mimporter\u001b[0m\u001b[0;34m:\u001b[0m\u001b[0;34m\u001b[0m\u001b[0;34m\u001b[0m\u001b[0m\n\u001b[0m\u001b[1;32m    390\u001b[0m         \u001b[0m_import_from_importer\u001b[0m\u001b[0;34m(\u001b[0m\u001b[0mnetwork\u001b[0m\u001b[0;34m,\u001b[0m \u001b[0mimporter\u001b[0m\u001b[0;34m,\u001b[0m \u001b[0mbasename\u001b[0m\u001b[0;34m=\u001b[0m\u001b[0mbasename\u001b[0m\u001b[0;34m,\u001b[0m \u001b[0mskip_time\u001b[0m\u001b[0;34m=\u001b[0m\u001b[0mskip_time\u001b[0m\u001b[0;34m)\u001b[0m\u001b[0;34m\u001b[0m\u001b[0;34m\u001b[0m\u001b[0m\n\u001b[1;32m    391\u001b[0m \u001b[0;34m\u001b[0m\u001b[0m\n",
      "\u001b[0;32m~/vres/py/pypsa/pypsa/io.py\u001b[0m in \u001b[0;36m__init__\u001b[0;34m(self, csv_folder_name, encoding)\u001b[0m\n\u001b[1;32m     70\u001b[0m         \u001b[0mself\u001b[0m\u001b[0;34m.\u001b[0m\u001b[0mencoding\u001b[0m \u001b[0;34m=\u001b[0m \u001b[0mencoding\u001b[0m\u001b[0;34m\u001b[0m\u001b[0;34m\u001b[0m\u001b[0m\n\u001b[1;32m     71\u001b[0m \u001b[0;34m\u001b[0m\u001b[0m\n\u001b[0;32m---> 72\u001b[0;31m         \u001b[0;32massert\u001b[0m \u001b[0mos\u001b[0m\u001b[0;34m.\u001b[0m\u001b[0mpath\u001b[0m\u001b[0;34m.\u001b[0m\u001b[0misdir\u001b[0m\u001b[0;34m(\u001b[0m\u001b[0mcsv_folder_name\u001b[0m\u001b[0;34m)\u001b[0m\u001b[0;34m,\u001b[0m \u001b[0;34m\"Directory {} does not exist.\"\u001b[0m\u001b[0;34m.\u001b[0m\u001b[0mformat\u001b[0m\u001b[0;34m(\u001b[0m\u001b[0mcsv_folder_name\u001b[0m\u001b[0;34m)\u001b[0m\u001b[0;34m\u001b[0m\u001b[0;34m\u001b[0m\u001b[0m\n\u001b[0m\u001b[1;32m     73\u001b[0m \u001b[0;34m\u001b[0m\u001b[0m\n\u001b[1;32m     74\u001b[0m     \u001b[0;32mdef\u001b[0m \u001b[0mget_attributes\u001b[0m\u001b[0;34m(\u001b[0m\u001b[0mself\u001b[0m\u001b[0;34m)\u001b[0m\u001b[0;34m:\u001b[0m\u001b[0;34m\u001b[0m\u001b[0;34m\u001b[0m\u001b[0m\n",
      "\u001b[0;31mAssertionError\u001b[0m: Directory ac-dc-meshed/ac-dc-data does not exist."
     ]
    }
   ],
   "source": [
    "csv_folder_name = \"ac-dc-meshed/ac-dc-data\"\n",
    "\n",
    "results_folder_name = os.path.join(csv_folder_name,\"results-lopf\")\n",
    "network_r = pypsa.Network(csv_folder_name=results_folder_name)"
   ]
  },
  {
   "cell_type": "code",
   "execution_count": null,
   "metadata": {},
   "outputs": [],
   "source": [
    "network = pypsa.Network(csv_folder_name=csv_folder_name)\n",
    "\n",
    "gen_to_replace = \"Frankfurt Gas\"\n",
    "bus_name, link_name, store_name = replace_gen(network,gen_to_replace)\n",
    "network.lopf(network.snapshots)\n",
    "\n",
    "\n",
    "np.testing.assert_almost_equal(network_r.objective,\n",
    "                               network.objective,decimal=5)\n",
    "np.testing.assert_array_almost_equal(-network.links_t.p1[link_name],\n",
    "                                     network_r.generators_t.p[gen_to_replace])"
   ]
  }
 ],
 "metadata": {
  "kernelspec": {
   "display_name": "Python 3",
   "language": "python",
   "name": "python3"
  },
  "language_info": {
   "codemirror_mode": {
    "name": "ipython",
    "version": 3
   },
   "file_extension": ".py",
   "mimetype": "text/x-python",
   "name": "python",
   "nbconvert_exporter": "python",
   "pygments_lexer": "ipython3",
   "version": "3.8.5"
  }
 },
 "nbformat": 4,
 "nbformat_minor": 1
}
